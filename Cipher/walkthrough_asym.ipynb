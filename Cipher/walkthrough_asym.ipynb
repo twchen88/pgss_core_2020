{
 "cells": [
  {
   "cell_type": "markdown",
   "metadata": {},
   "source": [
    "# Walking through `asym-ascii-cipher.py`\n",
    "\n",
    "When we open the file, we see that we have the function `encode_secret`. This is the function that we will be using to encode a message. In order to decode the secret message, we first have to understand how the message was encrypted."
   ]
  },
  {
   "cell_type": "markdown",
   "metadata": {},
   "source": [
    "### What is `encode_secret` doing?"
   ]
  },
  {
   "cell_type": "code",
   "execution_count": null,
   "metadata": {},
   "outputs": [],
   "source": [
    "# Reference alphabet\n",
    "alphabet = \"!\\\"#$%&'()*+,-./0123456789:;<=>?@ABCDEFGHIJKLMNOPQRSTUVWXYZ[\\\\]^_`abcdefghijklmnopqrstuvwxyz{|}~\""
   ]
  },
  {
   "cell_type": "markdown",
   "metadata": {},
   "source": [
    "First, we establish the set of `alphabet` we are going to use. Instead of using the usual 26 letters, we use an alphabet with 94 characters (this is the same as symmetrical encoding).\n",
    "\n",
    "Then, we `def`ine the function `encode_secret`. We see that it takes in one parameter of type string `secret`, which is the sequence of letters that we want to encode. It technically does not return anything but prints out a “rotated” string.\n",
    "\n",
    "The idea is that we will shift a character to the right/forward by a certain number. Here’s an example to clarify this concept. Let’s say we have the string “pgss”. It is already set in the function that every character will shift by 3 as specified by `rotate_const`. So we look up the characters in the reference `alphabet` and see that if we shift every letter in “pgss” to the right by three letters, the resulting string will be “sjvv”."
   ]
  },
  {
   "cell_type": "code",
   "execution_count": null,
   "metadata": {},
   "outputs": [],
   "source": [
    "# run this block to define the function\n",
    "def encode_secret(secret):\n",
    "    \"\"\"Custom rotation encryption \n",
    "    \n",
    "    NOTE: Virtually impenetrable, probably\n",
    "    \"\"\"\n",
    "    \n",
    "    # Encryption key\n",
    "    rotate_const = 3\n",
    "    \n",
    "    # Storage for encoded secret\n",
    "    encoded = \"\"\n",
    "    \n",
    "    # encode loop\n",
    "    for c in secret:\n",
    "        index = alphabet.find(c)\n",
    "        original_index = (index + rotate_const) % len(alphabet)\n",
    "        encoded = encoded + alphabet[original_index]\n",
    "\n",
    "        \n",
    "    print(encoded)"
   ]
  },
  {
   "cell_type": "markdown",
   "metadata": {},
   "source": [
    "Here’s a little demo you can play around with. Feel free to change the input!"
   ]
  },
  {
   "cell_type": "code",
   "execution_count": null,
   "metadata": {},
   "outputs": [],
   "source": [
    "string = \"pgss\"\n",
    "encode_secret(string)"
   ]
  },
  {
   "cell_type": "markdown",
   "metadata": {},
   "source": [
    "Now that we understand what `encode_secret` is doing, it will be easier for us to make sense of the code.\n",
    "\n",
    "### Line by line explanation of `encode_secret`\n",
    "\n",
    "`encoded` is simply the variable that will hold the resulting string after the input has been encoded. We initialize it as an empty string since we haven’t encoded anything yet!\n",
    "Then, we encounter a for loop. A for loop essentially means that for every [small thing] in the [big thing], we do [this] once. In this case, [small thing] is `c`, [big thing] is `secret`, and [this] is the body of the loop (indented lines).\n",
    "\n",
    "Usually, you can only loop through a list, but strings are constructed weirdly. They are actually implemented in Python as a list of characters, so we can also loop through a string.\n",
    "\n",
    "Let’s look at what the body of the loop is doing. First, we have the variable `index`, which is assigned to `alphabet.find(c)`. The built-in function `find` returns the numerical index of where its input (`c`) is in the list (`alphabet`).\n",
    "\n",
    "Then, we use modular arithmetic to find what the encoded character should be. If you’re not familiar with the concepts of modular arithmetic, you can find more information here: https://mathworld.wolfram.com/ModularArithmetic.html\n",
    "You can also play around with this line of code to understand it better."
   ]
  },
  {
   "cell_type": "code",
   "execution_count": null,
   "metadata": {},
   "outputs": [],
   "source": [
    "# change n1 and n2 to see what mod does!\n",
    "n1=11\n",
    "n2=3\n",
    "\n",
    "print(\"%d mod %d = %d\" % (n1, n2, n1 % n2))"
   ]
  },
  {
   "cell_type": "markdown",
   "metadata": {},
   "source": [
    "`%` is the mod operator in Python. It can also be used for string manipulation as shown above, but we don’t need to know that for this function. The line `original_index = (index + rotate_const) % len(alphabet)` helps us find the index of the shifted character. Note that we `%` `index + rotate_const` by the length of `alphabet` to “wrap around” it so we won’t run out of characters when `index + rotate_const` exceeds the length of `alphabet`.\n",
    "\n",
    "The last line of the loop body simply adds the shifted character that we just found onto the end of the `encoded` string. In order to do that, we update the variable `encoded` by adding another character onto the end of the original `encoded`. To get the shifted character, we can get the `original_index`th entry in `alphabet` by indexing into the string (`alphabet[original_index]`).\n",
    "\n",
    "We completed encoding the string! We then exit the loop and print the encoded string out without returning it.\n",
    "\n",
    "### How do we decode it?\n",
    "\n",
    "We know that the string is encoded by shifting every character to the right/forward in the `alphabet` by 3 and the length of the `alphabet` is 94. There are a few ways to solve it.\n",
    "\n",
    "1) Rotate the encoded string by 91 (to the right)\n",
    "2) Rotate the encoded string by -3 (to the left)\n",
    "3) Call the encoder 93 times\n",
    "\n",
    "The first way is rather intuitive, if we shifted a character to the right by 3, and the total length is 94, we simply shift the encoded character to the right by 94 - 3 = 91 to complete a full circle. Now, what we need to do is rotate it to the right by 91 in Python! To do that, we can use the helper function in `rotate_helper.py`.\n",
    "\n",
    "The second way uses a similiar idea, but instead of rotating to the right, we shift to the left by 3 to get the original character. To go backwards, we shift the encoded character by -3. We will see if we can also use `rotate_helper.py` to do that; it will make the task a lot easier if we can implement the two ways in one function!"
   ]
  },
  {
   "cell_type": "code",
   "execution_count": null,
   "metadata": {},
   "outputs": [],
   "source": [
    "# Reference alphabet\n",
    "alphabet = \"!\\\"#$%&'()*+,-./0123456789:;<=>?@ABCDEFGHIJKLMNOPQRSTUVWXYZ[\\\\]^_`abcdefghijklmnopqrstuvwxyz{|}~\"\n",
    "\n",
    "\n",
    "\n",
    "def rotate(string, key):\n",
    "\n",
    "    # Storage for decoded secret\n",
    "    rotated = \"\"\n",
    "    \n",
    "    # decode loop\n",
    "    for c in string:\n",
    "    \n",
    "        # find the letter in the alphabet. index is now the number that\n",
    "        #   represents that letter...\n",
    "        index = alphabet.find(c)\n",
    "        \n",
    "        # this is the meat of the cipher that adds a key value to the index.\n",
    "        # The \"%\" operator wraps the number if it gets bigger than there are\n",
    "        #   letters in the alphabet.\n",
    "        original_index = (index + key) % len(alphabet)\n",
    "        \n",
    "        # this saves each rotated letter to the output string.\n",
    "        rotated = rotated + alphabet[original_index]\n",
    "        \n",
    "    print(rotated)"
   ]
  },
  {
   "cell_type": "markdown",
   "metadata": {},
   "source": [
    "The reference `alphabet` is the same. We `def`ine a function `rotate`. It is really similar to `encode_secret` in `asym-ascii-cipher.py`. It uses the same concept, but notice that we use a second parameter `key` to replace the local variable `rotate_const` in `encode_secret`. This allows us to specify how much we want to rotate by and in which direction when we call the function. You can play around with the code below by changing the message. The decoded messages should be the same as the original message."
   ]
  },
  {
   "cell_type": "code",
   "execution_count": null,
   "metadata": {},
   "outputs": [],
   "source": [
    "message = \"pgss\"\n",
    "encode_secret(message)"
   ]
  },
  {
   "cell_type": "code",
   "execution_count": null,
   "metadata": {},
   "outputs": [],
   "source": [
    "# set encoded to the output of the code block above\n",
    "encoded = \"sjvv\"\n",
    "key1 = 91\n",
    "key2 = -3\n",
    "\n",
    "decoded1 = rotate(encoded, key1)\n",
    "decoded2 = rotate(encoded, key2)"
   ]
  },
  {
   "cell_type": "markdown",
   "metadata": {},
   "source": [
    "The third way is a little more confusing. How in the world does encoding the message 93 times work? Let's take a moment and think about it.\n",
    "\n",
    "We know that every time we call `encode_secret`, it shifts the characters to the left by 3. Here's the question: how many times do we need to call `encode_secret` so that we will complete a full circle, given that the length of `alphabet` is 94?\n",
    "\n",
    "To find that number, we need to first find a common multiple of 3 and 94. The least common multiple of 3 and 94 is 3 * 94 = 282 because 3 and 94 do not have a common factor. So we know that given any character, if we call `encode_secret` on it 94 times, we will get the same character again. Since we also know that the encoded message is the result of calling `encode_secret` once, all we have to do is call `encode_secret` on the encoded message another 93 times to get the original message. You can try that with the code below."
   ]
  },
  {
   "cell_type": "code",
   "execution_count": null,
   "metadata": {},
   "outputs": [],
   "source": [
    "# a version that returns the string instead of printing it\n",
    "def encode_secret_v2(secret):\n",
    "    rotate_const = 3\n",
    "    encoded = \"\"\n",
    "    for c in secret:\n",
    "        index = alphabet.find(c)\n",
    "        original_index = (index + rotate_const) % len(alphabet)\n",
    "        encoded = encoded + alphabet[original_index]\n",
    "    return encoded\n",
    "\n",
    "string = \"pgss\"\n",
    "secret = encode_secret_v2(string)\n",
    "print(secret)\n",
    "\n",
    "for i in range (93):\n",
    "    secret = encode_secret_v2(secret)\n",
    "\n",
    "print(secret)"
   ]
  }
 ],
 "metadata": {
  "kernelspec": {
   "display_name": "Python 3",
   "language": "python",
   "name": "python3"
  },
  "language_info": {
   "codemirror_mode": {
    "name": "ipython",
    "version": 3
   },
   "file_extension": ".py",
   "mimetype": "text/x-python",
   "name": "python",
   "nbconvert_exporter": "python",
   "pygments_lexer": "ipython3",
   "version": "3.7.0"
  }
 },
 "nbformat": 4,
 "nbformat_minor": 4
}
