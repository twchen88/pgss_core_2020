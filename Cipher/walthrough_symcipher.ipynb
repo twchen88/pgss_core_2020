{
 "cells": [
  {
   "cell_type": "markdown",
   "metadata": {},
   "source": [
    "Have you ever used [one of these](https://inventwithpython.com/cipherwheel/)? The bulk of the logic in both of the cipher codes works in a similar way! If you haven't used one of these before, it's a little tool to help you encode (or decode) a message - to encode a certain letter, find the letter on the outside circle and change it to whatever that letter matches up with on the inside circle. For example, you might spin the outer circle so that \"A\" on the outside lines up with \"C\" on the inside. Then, \"PGSS\" would be encoded as \"RIUU\". You can decode by going from the inside circle to the outside circle. This physical representation might be useful to keep in mind!"
   ]
  },
  {
   "cell_type": "markdown",
   "metadata": {},
   "source": [
    "# Walking through `sym-ascii-cipher.py`\n",
    "\n",
    "Jeff Bezos’s credit card number has been encoded - our mission is to decode it! 🤑\n",
    "\n",
    "First, we establish some variables.\n",
    "`bezos_cc_secret` is Jeff's encoded credit card number, and `alphabet` is a string of 94 letters and other characters."
   ]
  },
  {
   "cell_type": "code",
   "execution_count": 4,
   "metadata": {},
   "outputs": [],
   "source": [
    "# It might be useful if you run these code chunks as you come across them!\n",
    "bezos_cc_secret = \"_aeg\\\\e`aa\\\\bg`g\\\\`beg\"\n",
    "\n",
    "alphabet = \"!\\\"#$%&'()*+,-./0123456789:;<=>?@ABCDEFGHIJKLMNOPQRSTUVWXYZ[\\\\]^_`abcdefghijklmnopqrstuvwxyz{|}~\""
   ]
  },
  {
   "cell_type": "markdown",
   "metadata": {},
   "source": [
    "Next we `def`ine the function `symmetrical_rotate`. \n",
    "`symmetrical_rotate` takes one string as an argument, and although it doesn't technically give any output (there's no `return` statement) it prints out a \"rotated\" string.\n",
    "\n",
    "### What's going on in the function `symmetrical_rotate` at a high level? \n",
    "\n",
    "The differences between `symmetrical_rotate` and the cipher tool described above are:\n",
    "- instead of using an alphabet with 26 characters (and therefore outer and inner circles with 26 spots), we use an alphabet with 94 characters (the variable `alphabet`)\n",
    "- the degree to which we rotate the circles has already been decided - each letter should shift 47 characters (`rotate_const`)\n",
    "\n",
    "That's it! Let's run some code so that we can play around with the function. "
   ]
  },
  {
   "cell_type": "code",
   "execution_count": 5,
   "metadata": {},
   "outputs": [],
   "source": [
    "# run this so that symmetrical_rotate gets defined - there won't be any output\n",
    "\n",
    "def symmetrical_rotate(string):\n",
    "    \"\"\"ROT47 implementation\n",
    "    \n",
    "    NOTE: encode and decode are the same operation in the ROT cipher family.\n",
    "    \"\"\"\n",
    "    \n",
    "    rotate_const = 47\n",
    "    \n",
    "    rotated = \"\"\n",
    "    \n",
    "    for c in string:\n",
    "        index = alphabet.find(c)\n",
    "        original_index = (index + rotate_const) % len(alphabet)\n",
    "        rotated = rotated + alphabet[original_index]\n",
    "        \n",
    "    print(rotated)"
   ]
  },
  {
   "cell_type": "code",
   "execution_count": 20,
   "metadata": {},
   "outputs": [
    {
     "name": "stdout",
     "output_type": "stream",
     "text": [
      "xkb!JE9@?P\n"
     ]
    }
   ],
   "source": [
    "symmetrical_rotate(\"I<3Python!\") # feel free to experiment with the input! "
   ]
  },
  {
   "cell_type": "markdown",
   "metadata": {},
   "source": [
    "### Now we'll talk about what's going on in `symmetrical_rotate` line by line. \n",
    "\n",
    "`rotated` is a variable that initially, just holds an empty string (a string with no characters). We'll be encoding the input string letter by letter (just like you'd do with a cipher tool!), so as we encode a letter we'll be tacking it on to the end of `rotated`. "
   ]
  },
  {
   "cell_type": "markdown",
   "metadata": {},
   "source": [
    "Then, we enter a `for` loop. In this `for` loop, the \"big thing\" that we're looping over is the variable called `string`, which holds the string that was input to the function. \n",
    "\n",
    "You might remember this from Monday - a string qualifies as a list itself, because it's a sort of list of characters. So, this particular `for` loop is translated as \"for every character in `string`, do ...\\[instructions\\]\".\n",
    "\n",
    "In the body of the `for` loop (so, for each individual character in `string`, we first use the built-in `find` function to find the numerical index of `c` in our variable `alphabet` (it was defined up top). You can try it here:"
   ]
  },
  {
   "cell_type": "code",
   "execution_count": 11,
   "metadata": {},
   "outputs": [
    {
     "data": {
      "text/plain": [
       "48"
      ]
     },
     "execution_count": 11,
     "metadata": {},
     "output_type": "execute_result"
    }
   ],
   "source": [
    "alphabet.find(\"Q\") # Note: indexing in python starts with 0! Try alphabet.find(\"!\") to see what I mean."
   ]
  },
  {
   "cell_type": "markdown",
   "metadata": {},
   "source": [
    "Next, we use 🎉modular arithmetic 🎉to figure out which character the thing stored in the `c` variable should be transformed into. This is when it's a good time to think about that tool with the inner and outer circles - we want to make sure that our shifts wrap back around, so that starting from lowercase z and shifting 47 places gets us to uppercase K (and doesn't cause an error). Using addition modulus 94 (the length of our alphabet) will achieve this!\n",
    "\n",
    "In Python the `%` sign is the mod operator. So, this line:\n",
    "`original_index = (index + rotate_const) % len(alphabet)`\n",
    "is our equation that gets us the shifted character's index. \n",
    "\n",
    "But! `original_index` is a number, and we need the corresponding character. Luckily, we can remember that the string held by the variable `alphabet` can be treated as a list! In general, the syntax to get the entry at index `i` in a list called `my_list` looks like `my_list[i]`. We need the `original_index`th entry of `alphabet`, so we do `alphabet[original_index]` to get our rotated character. \n",
    "\n",
    "The only thing left is to tack this rotated character on to the result string that we've been accumulating (the variable `rotated`). We can concatenate two strings (or a string and a character, or two characters) with the `+` sign: `rotated + alphabet[original_index]`. Then, we want to make sure that the variable `rotated` is updated with this result, so we assign:  `rotated = rotated + alphabet[original_index]`. "
   ]
  },
  {
   "cell_type": "markdown",
   "metadata": {},
   "source": [
    "### So, how do we decode the credit card number?\n",
    "\n",
    "The credit card number (stored in `bezos_cc_secret`) has already been encoded in ROT-47. The function `symmetrical_rotate` encodes strings using ROT-47... so ... don't we need a function to decode strings?\n",
    "\n",
    "Nope! The function `symmetrical_rotate` actually can both encode and decode, because to encode and decode in ROT-47 is the same! Another way to think about it: our alphabet has 94 characters, so shifting by 47 and then doing another shift by 47 is a shift by 94, but since we shift mod 94, this gets us back where we started! So, we only need to run the following to uncover his credit card:"
   ]
  },
  {
   "cell_type": "code",
   "execution_count": 18,
   "metadata": {},
   "outputs": [
    {
     "name": "stdout",
     "output_type": "stream",
     "text": [
      "0268-6122-3818-1368\n"
     ]
    }
   ],
   "source": [
    "symmetrical_rotate(bezos_cc_secret)"
   ]
  },
  {
   "cell_type": "markdown",
   "metadata": {},
   "source": [
    "This method of encoding seems too easily breakable... (see `asym_ascii_cipher.py`!)"
   ]
  },
  {
   "cell_type": "markdown",
   "metadata": {},
   "source": [
    "## Challenge Mode! \n",
    "\n",
    "(Note: if you're not totally comfortable with what the terminal is yet and don't quite see what's going on here, that's okay! We'll probably talk about terminal for real tomorrow, so maybe come back to this if you're curious!)\n",
    "\n",
    "Let's pretend that instead of being able to write your own Python code, you're restricted to commands in the Binder terminal. (In the terminal, the only useful option available to you is to run `python sym-ascii-cipher.py`.) Is it still possible to uncover Bezos's card? \n",
    "\n",
    ". \n",
    "\n",
    ". \n",
    "\n",
    ". \n",
    "\n",
    ".\n",
    "\n",
    ".\n",
    "\n",
    ".\n",
    "\n",
    ".\n",
    "\n",
    ".\n",
    "\n",
    ".\n",
    "\n",
    ".\n",
    "\n",
    "Yes, with some trickery!\n",
    "\n",
    "You'll notice that the function `choose_greatest` is also included in this file, with the comment \"Warning: this function was written quickly and needs proper error handling\", and that at the very bottom of the file, `choose_greatest` is actually called. It may have seemed irrelevant at first, but this was meant as a bit of a hint that there might be some way to use this function in a way not necessarily intended by the author!\n",
    "\n",
    "Remember, we're restricted to only terminal commands, so one of the only things we can do is run `sym_ascii_cipher.py` (terminal command: `python sym_ascii_cipher.py`). When we do, we're prompted to input two numbers, and the program prints out the greater of the two. But, (because it's lacking proper error handling) there's nothing preventing us from inputting something that _isn't_ a number. \n",
    "\n",
    "What would be a useful input? \n",
    "\n",
    "Instead of a number, we can choose to input `symmetrical_rotate(bezos_cc_secret)`! It turns out that when Python's `input` function evaluates this, it recognizes that `symmetrical_rotate` is a function and `bezos_cc_secret` is a variable, so it actually evaluates the result of the function call, which prints out the decoded `bezos_cc_secret` for us! Hacked! 😎\n",
    "\n",
    "(**HOWEVER**: it turns out that hacking Python's `input` function like this only works in Python version 2, not version 3. We can get around this by specifying that we'd like to evaluate `sym_ascii_cipher.py` in version 2. Here's the correct terminal command: `python2 sym_ascii_cipher.py`)"
   ]
  },
  {
   "cell_type": "code",
   "execution_count": null,
   "metadata": {},
   "outputs": [],
   "source": []
  }
 ],
 "metadata": {
  "kernelspec": {
   "display_name": "Python 3",
   "language": "python",
   "name": "python3"
  },
  "language_info": {
   "codemirror_mode": {
    "name": "ipython",
    "version": 3
   },
   "file_extension": ".py",
   "mimetype": "text/x-python",
   "name": "python",
   "nbconvert_exporter": "python",
   "pygments_lexer": "ipython3",
   "version": "3.7.6"
  }
 },
 "nbformat": 4,
 "nbformat_minor": 4
}
